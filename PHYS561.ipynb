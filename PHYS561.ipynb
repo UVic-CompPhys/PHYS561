{
 "cells": [
  {
   "cell_type": "markdown",
   "metadata": {},
   "source": [
    "#  Research computing - tools and resources (Part I)\n",
    "This module is part of PHYS 516. The goal is to provide an overview of research computing tools and resources. \n",
    "\n",
    "\n",
    "## Introduction\n",
    "* [Intro to PHYS248](https://github.com/UVic-CompPhys/physmath248-2018/blob/master/Introduction.ipynb)\n",
    "\n",
    "## One view of the cyber challenge\n",
    "* data example 3D hydro simulations of stars: one dump 4 quantities $1536^3$ x 8 byte x 4 quantities = 115GB - disk read (100MB/s) **20min**, network transport (20MB/s) **1.6hrs**\n",
    "* 500 time steps = 57.5TB - disk read 6.6d, network transport 33d\n",
    "* large data sets require remote access\n",
    "\n",
    "* multiphysics, multimessenger, multiwavelength, and multiepoch\n",
    "* complex data interactions and collaborative cyber- research environments, data fusion \n",
    "\n",
    "* research data management - in reality means combining access to data, data-specific analytics tools and capability to execute analytic tools to data\n",
    "* sharing work flows, authentication and access models \n",
    "\n",
    "* legacy software, tools, and workflows \n",
    "* reproducibility of science\n",
    "\n",
    "## The hardware\n",
    "* laptop, big screen (size vs. pixels)\n",
    "* desktop (no one uses those anymore)\n",
    "* workstation in sever room (no one uses those either, somewhat exagerated, *example*)\n",
    "* virtual server in the cloud \n",
    "    - [Compute Canada cloud](https://www.computecanada.ca/research-portal/national-services/compute-canada-cloud)\n",
    "    - [Google cloud platform](https://console.cloud.google.com)\n",
    "* the big iron: massively parallel clusters, e.g. cedar and niagara in Compute Canada\n",
    "    - example\n",
    "\n",
    "### Resource allocations\n",
    "* Compute Canada deadline is coming up\n",
    "* one application for a group, not for individuals\n",
    "* everybody has default allocation! get your account before next class!\n",
    "\n",
    "## Data safety and security\n",
    "\n",
    "### Security\n",
    "1. Research data in physics - usually we do not have security concerns, no patents, no sensitive data\n",
    "2. However, be aware when data security issues may arise (usually when copyright, intellectual property or personal data is involved)\n",
    "2. Be aware of copyright issues, e.g. in presentations that you put online\n",
    "3. TA: do not store any type of personal data on unencrypted volumes\n",
    "4. Stricktly separate your personal from your professional computing\n",
    "5. A word about email: consider them public documents.\n",
    "6. OS and system updates, phishing, passwords\n",
    "\n",
    "### Safety\n",
    "1. Backup, backup, and then backup\n",
    "2. What to backup and where, what is your personal data management plan?\n",
    "3. Risk/Effort = constant\n",
    "4. When to backup the presentation you are just working on\n",
    "\n",
    "\n",
    "## Languages\n",
    "* Markdown, Latex (Overleaf)\n",
    "* Python (interpreted languages)\n",
    "    - [PHYS248 Intro Computational Physics](https://github.com/UVic-CompPhys/physmath248-2018)\n",
    "    - Anaconda distribution, with conda environement and package management\n",
    "* Fortran (compiled languages)\n",
    "* Bash (shell)\n",
    "    - `.bashrc`\n",
    "    - one-line scripts: `for name in Paul Anne Carla Henry Lisa; do echo Hallo $name > $name.txt; done`\n",
    "    - substantial scripts, [example](https://github.com/cyberlaboratories/astrohubs/blob/master/mesahub/install_mesa.sh)\n",
    "    \n",
    "## Collaboration \n",
    "\n",
    "### Communicating\n",
    "* Skype, Zoom, Vidyo (WestGrid)\n",
    "* Slack\n",
    "* A word about email: don't use it.\n",
    "* Twitter yes - Facebook no (my bias)\n",
    "\n",
    "### Version control \n",
    "* subversion\n",
    "* git\n",
    "    - gitlab \n",
    "    - github, bitbucket\n",
    " \n",
    "## Access, human-machine interface\n",
    "* terminal\n",
    "    - editor: emacs of vim\n",
    "* vnc: a virtual desktop \n",
    "* jupyterhub, [Cyberhubs](http://iopscience.iop.org/article/10.3847/1538-4365/aab777/meta), [Cyberlaboratories Github repo](https://github.com/cyberlaboratories)\n",
    "\n",
    "## Storage\n",
    "* external hard drive (8TB $189 on amazon.ca)\n",
    "* ownCloud, Google Drive, DropBox\n",
    "* your best friend: `sshfs`\n",
    "* server storage \n",
    "    - on ComputeCanada, secret: scratch on cedar or elsewhere\n",
    "    - research groups in department servers (this is coming to an end soon)\n",
    "\n",
    "## Virtualization\n",
    "* VirtualBox\n",
    "* Docker\n",
    "\n",
    "## Prime directives\n",
    "1. Everything can only be in one place.\n"
   ]
  },
  {
   "cell_type": "code",
   "execution_count": 1,
   "metadata": {},
   "outputs": [
    {
     "data": {
      "text/plain": [
       "7.5"
      ]
     },
     "execution_count": 1,
     "metadata": {},
     "output_type": "execute_result"
    }
   ],
   "source": [
    "60/8"
   ]
  },
  {
   "cell_type": "code",
   "execution_count": 2,
   "metadata": {},
   "outputs": [
    {
     "data": {
      "text/plain": [
       "1417.5"
      ]
     },
     "execution_count": 2,
     "metadata": {},
     "output_type": "execute_result"
    }
   ],
   "source": [
    "_*189"
   ]
  },
  {
   "cell_type": "code",
   "execution_count": null,
   "metadata": {},
   "outputs": [],
   "source": []
  },
  {
   "cell_type": "markdown",
   "metadata": {},
   "source": [
    "* github.com\n",
    "* compute canada account "
   ]
  }
 ],
 "metadata": {
  "kernelspec": {
   "display_name": "Python 3",
   "language": "python",
   "name": "python3"
  },
  "language_info": {
   "codemirror_mode": {
    "name": "ipython",
    "version": 3
   },
   "file_extension": ".py",
   "mimetype": "text/x-python",
   "name": "python",
   "nbconvert_exporter": "python",
   "pygments_lexer": "ipython3",
   "version": "3.6.4"
  }
 },
 "nbformat": 4,
 "nbformat_minor": 2
}
